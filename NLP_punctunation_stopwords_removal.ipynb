{
  "nbformat": 4,
  "nbformat_minor": 0,
  "metadata": {
    "colab": {
      "provenance": [],
      "authorship_tag": "ABX9TyOfCwbmTpFtsyRx2z/heTHV",
      "include_colab_link": true
    },
    "kernelspec": {
      "name": "python3",
      "display_name": "Python 3"
    },
    "language_info": {
      "name": "python"
    }
  },
  "cells": [
    {
      "cell_type": "markdown",
      "metadata": {
        "id": "view-in-github",
        "colab_type": "text"
      },
      "source": [
        "<a href=\"https://colab.research.google.com/github/GUNDRUNIKHITHA/fmllab/blob/main/NLP_punctunation_stopwords_removal.ipynb\" target=\"_parent\"><img src=\"https://colab.research.google.com/assets/colab-badge.svg\" alt=\"Open In Colab\"/></a>"
      ]
    },
    {
      "cell_type": "code",
      "execution_count": 19,
      "metadata": {
        "id": "kIYz18LuX0c0"
      },
      "outputs": [],
      "source": [
        "import nltk\n",
        "from nltk.corpus import stopwords\n",
        "from nltk.tokenize import word_tokenize\n",
        "import string\n"
      ]
    },
    {
      "cell_type": "code",
      "source": [
        "def remove_punctuation(sentence):\n",
        "  for i in sentence:\n",
        "    if i in string.punctuation:\n",
        "      sentence=sentence.replace(i,\"\")\n",
        "  return sentence"
      ],
      "metadata": {
        "id": "bKPjXGBuYMiq"
      },
      "execution_count": 20,
      "outputs": []
    },
    {
      "cell_type": "code",
      "source": [
        "def remove_stopwords(sentence):\n",
        "  stop_words=set(stopwords.words('english'))\n",
        "  word_tokens=word_tokenize(example_sent)\n",
        "\n",
        "  filtered_sentence=[]\n",
        "\n",
        "  for w in word_tokens:\n",
        "    if w not in stop_words:\n",
        "      filtered_sentence.append(w)\n",
        "\n",
        "  return filtered_sentence"
      ],
      "metadata": {
        "id": "L72dE4L-Y4FV"
      },
      "execution_count": 24,
      "outputs": []
    },
    {
      "cell_type": "code",
      "source": [
        "example_sent=\"we are learning natural language processing (nlp) as part of fundamentals of machine learning (fml) course in our second year B.tech.\""
      ],
      "metadata": {
        "id": "KrjiW00LZ40o"
      },
      "execution_count": 25,
      "outputs": []
    },
    {
      "cell_type": "code",
      "source": [
        "print(\"original sentence :\")\n",
        "print(example_sent)\n",
        "example_sent=remove_punctuation(example_sent)\n",
        "print(\"after removing punctuation : {example_sent}\")\n",
        "print(example_sent)"
      ],
      "metadata": {
        "colab": {
          "base_uri": "https://localhost:8080/"
        },
        "id": "-ufrtDE3aUb2",
        "outputId": "0531570f-51ae-48e5-b6f4-2089c3c05420"
      },
      "execution_count": 26,
      "outputs": [
        {
          "output_type": "stream",
          "name": "stdout",
          "text": [
            "original sentence :\n",
            "we are learning natural language processing (nlp) as part of fundamentals of machine learning (fml) course in our second year B.tech.\n",
            "after removing punctuation : {example_sent}\n",
            "we are learning natural language processing nlp as part of fundamentals of machine learning fml course in our second year Btech\n"
          ]
        }
      ]
    }
  ]
}